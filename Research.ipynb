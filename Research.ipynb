{
 "cells": [
  {
   "cell_type": "code",
   "execution_count": 69,
   "metadata": {},
   "outputs": [],
   "source": [
    "import numpy as np\n",
    "np.set_printoptions(threshold=np.nan)\n",
    "import pandas as pd\n",
    "import matplotlib.pyplot as plt\n",
    "import scipy as sp"
   ]
  },
  {
   "cell_type": "markdown",
   "metadata": {},
   "source": [
    "# Numpy"
   ]
  },
  {
   "cell_type": "code",
   "execution_count": 30,
   "metadata": {},
   "outputs": [
    {
     "name": "stdout",
     "output_type": "stream",
     "text": [
      "(6,) 1\n"
     ]
    },
    {
     "data": {
      "text/plain": [
       "array([0, 1, 2, 3, 4, 5])"
      ]
     },
     "execution_count": 30,
     "metadata": {},
     "output_type": "execute_result"
    }
   ],
   "source": [
    "a = np.array([0,1,2,3,4,5])\n",
    "print a.shape, a.ndim\n",
    "a"
   ]
  },
  {
   "cell_type": "code",
   "execution_count": 31,
   "metadata": {},
   "outputs": [
    {
     "name": "stdout",
     "output_type": "stream",
     "text": [
      "(3, 2) 2\n"
     ]
    },
    {
     "data": {
      "text/plain": [
       "array([[0, 1],\n",
       "       [2, 3],\n",
       "       [4, 5]])"
      ]
     },
     "execution_count": 31,
     "metadata": {},
     "output_type": "execute_result"
    }
   ],
   "source": [
    "b = a.reshape((3,2)) # will create link, so changes in b produce changes to a\n",
    "print b.shape, b.ndim\n",
    "b"
   ]
  },
  {
   "cell_type": "code",
   "execution_count": 34,
   "metadata": {},
   "outputs": [
    {
     "data": {
      "text/plain": [
       "array([ 0,  1, 77,  3,  4,  5])"
      ]
     },
     "execution_count": 34,
     "metadata": {},
     "output_type": "execute_result"
    }
   ],
   "source": [
    "b[1][0] = 77\n",
    "a"
   ]
  },
  {
   "cell_type": "code",
   "execution_count": 36,
   "metadata": {},
   "outputs": [
    {
     "name": "stdout",
     "output_type": "stream",
     "text": [
      "[[  0   1]\n",
      " [101   3]\n",
      " [  4   5]] [ 0  1 77  3  4  5]\n"
     ]
    }
   ],
   "source": [
    "c = a.reshape((3,2)).copy() # explicitly create object copy\n",
    "c[1][0] = 101\n",
    "print c, a"
   ]
  },
  {
   "cell_type": "code",
   "execution_count": 39,
   "metadata": {},
   "outputs": [
    {
     "data": {
      "text/plain": [
       "array([[    0,     1],\n",
       "       [10201,     9],\n",
       "       [   16,    25]])"
      ]
     },
     "execution_count": 39,
     "metadata": {},
     "output_type": "execute_result"
    }
   ],
   "source": [
    "c ** 2"
   ]
  },
  {
   "cell_type": "code",
   "execution_count": 44,
   "metadata": {},
   "outputs": [
    {
     "name": "stdout",
     "output_type": "stream",
     "text": [
      "[False False  True False False  True]  &  [77  5]\n"
     ]
    }
   ],
   "source": [
    "print a > 4, ' & ', a[a > 4]"
   ]
  },
  {
   "cell_type": "code",
   "execution_count": 49,
   "metadata": {},
   "outputs": [
    {
     "data": {
      "text/plain": [
       "array([0, 1, 4, 3, 4, 4])"
      ]
     },
     "execution_count": 49,
     "metadata": {},
     "output_type": "execute_result"
    }
   ],
   "source": [
    "a.clip(0, 4) # from min to max if value > max value will be replaced with max value"
   ]
  },
  {
   "cell_type": "markdown",
   "metadata": {},
   "source": [
    "Compare numpy with usual python stuff"
   ]
  },
  {
   "cell_type": "code",
   "execution_count": 51,
   "metadata": {},
   "outputs": [
    {
     "name": "stdout",
     "output_type": "stream",
     "text": [
      "Normal Python: 0.792109 sec\n",
      "Naive NumPy: 0.932891 sec\n",
      "Good NumPy: 0.017122 sec\n"
     ]
    }
   ],
   "source": [
    "import timeit\n",
    "normal_py_sec = timeit.timeit('sum(x*x for x in range(1000))', number=10000)\n",
    "naive_np_sec = timeit.timeit('sum(na*na)', setup=\"import numpy as np; na=np.arange(1000)\", number=10000)\n",
    "good_np_sec = timeit.timeit('na.dot(na)', setup=\"import numpy as np; na=np.arange(1000)\", number=10000)\n",
    "\n",
    "print \"Normal Python: %f sec\" % normal_py_sec\n",
    "print \"Naive NumPy: %f sec\" % naive_np_sec\n",
    "print \"Good NumPy: %f sec\" % good_np_sec"
   ]
  },
  {
   "cell_type": "markdown",
   "metadata": {},
   "source": [
    "# SciPy"
   ]
  },
  {
   "cell_type": "code",
   "execution_count": 53,
   "metadata": {},
   "outputs": [
    {
     "data": {
      "text/plain": [
       "True"
      ]
     },
     "execution_count": 53,
     "metadata": {},
     "output_type": "execute_result"
    }
   ],
   "source": [
    "scipy.dot is np.dot # all numpy stuff available from scipy namespace"
   ]
  },
  {
   "cell_type": "code",
   "execution_count": 77,
   "metadata": {},
   "outputs": [
    {
     "name": "stdout",
     "output_type": "stream",
     "text": [
      "Shape is: (743, 2)\n",
      "[[  1.00000000e+00   2.27200000e+03]\n",
      " [  2.00000000e+00              nan]\n",
      " [  3.00000000e+00   1.38600000e+03]]\n"
     ]
    }
   ],
   "source": [
    "data = sp.genfromtxt(\"BuildingMachineLearningSystemsWithPython/ch01/data/web_traffic.tsv\", delimiter=\"\\t\")\n",
    "print \"Shape is:\", data.shape\n",
    "print data[:3]"
   ]
  },
  {
   "cell_type": "code",
   "execution_count": null,
   "metadata": {
    "collapsed": true
   },
   "outputs": [],
   "source": []
  }
 ],
 "metadata": {
  "kernelspec": {
   "display_name": "Python 2",
   "language": "python",
   "name": "python2"
  },
  "language_info": {
   "codemirror_mode": {
    "name": "ipython",
    "version": 2
   },
   "file_extension": ".py",
   "mimetype": "text/x-python",
   "name": "python",
   "nbconvert_exporter": "python",
   "pygments_lexer": "ipython2",
   "version": "2.7.12"
  }
 },
 "nbformat": 4,
 "nbformat_minor": 2
}
